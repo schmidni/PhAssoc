{
 "cells": [
  {
   "cell_type": "code",
   "execution_count": 7,
   "metadata": {},
   "outputs": [],
   "source": [
    "from src.create_synthetic_catalog import create_synthetic_catalog\n",
    "from src.create_associations import create_associations, inventory_to_stations"
   ]
  },
  {
   "cell_type": "code",
   "execution_count": 8,
   "metadata": {},
   "outputs": [],
   "source": [
    "stations = inventory_to_stations('stations/station_cords_blab_VALTER.csv')\n",
    "stations.to_csv('stations.csv', index=False)"
   ]
  },
  {
   "cell_type": "code",
   "execution_count": 9,
   "metadata": {},
   "outputs": [],
   "source": [
    "n_events = 100\n",
    "duration = 300\n",
    "e0 = stations['e'].mean()\n",
    "n0 = stations['n'].mean()\n",
    "u0 = stations['u'].mean()\n",
    "\n",
    "catalog = create_synthetic_catalog(n_events, duration, e0, n0, u0)\n",
    "catalog.to_csv('synthetic_catalog.csv')"
   ]
  },
  {
   "cell_type": "code",
   "execution_count": 10,
   "metadata": {},
   "outputs": [],
   "source": [
    "v_p = 5500. #m/s\n",
    "v_s = 2700. #m/s\n",
    "associations = create_associations(catalog, stations, v_p, v_s, 60)\n",
    "associations.to_csv('associations.csv', index=False)"
   ]
  }
 ],
 "metadata": {
  "kernelspec": {
   "display_name": "env",
   "language": "python",
   "name": "python3"
  },
  "language_info": {
   "codemirror_mode": {
    "name": "ipython",
    "version": 3
   },
   "file_extension": ".py",
   "mimetype": "text/x-python",
   "name": "python",
   "nbconvert_exporter": "python",
   "pygments_lexer": "ipython3",
   "version": "3.10.12"
  }
 },
 "nbformat": 4,
 "nbformat_minor": 2
}
